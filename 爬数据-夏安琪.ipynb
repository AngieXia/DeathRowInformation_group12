{
 "metadata": {
  "language_info": {
   "codemirror_mode": {
    "name": "ipython",
    "version": 3
   },
   "file_extension": ".py",
   "mimetype": "text/x-python",
   "name": "python",
   "nbconvert_exporter": "python",
   "pygments_lexer": "ipython3",
   "version": "3.8.3-final"
  },
  "orig_nbformat": 2,
  "kernelspec": {
   "name": "python3",
   "display_name": "Python 3"
  }
 },
 "nbformat": 4,
 "nbformat_minor": 2,
 "cells": [
  {
   "cell_type": "code",
   "execution_count": 2,
   "metadata": {},
   "outputs": [],
   "source": [
    "import pandas as pd\n",
    "from bs4 import BeautifulSoup\n",
    "from urllib.request import Request, urlopen"
   ]
  },
  {
   "cell_type": "code",
   "execution_count": 11,
   "metadata": {},
   "outputs": [],
   "source": [
    "# 提取数据、解析数据\n",
    "web='https://www.tdcj.texas.gov/death_row/dr_executed_offenders.html'\n",
    "req = Request(web, headers={'User-Agent': 'Mozilla/5.0'})\n",
    "downloaded_web = urlopen(req).read()\n",
    "soup = BeautifulSoup(downloaded_web)"
   ]
  },
  {
   "cell_type": "code",
   "execution_count": 74,
   "metadata": {},
   "outputs": [],
   "source": [
    "# execution\n",
    "execution=[]\n",
    "for i in range(1,571):\n",
    "    execution_i=soup.find_all('tr')[i].find_all('td')[0].text\n",
    "    execution.append(execution_i)"
   ]
  },
  {
   "cell_type": "code",
   "execution_count": 86,
   "metadata": {},
   "outputs": [],
   "source": [
    "# offender_information_url\n",
    "offender_information_url=[]\n",
    "for i in range(1,571):\n",
    "    offender_information_url_i=soup.find_all('tr')[i].find_all('td')[1].find('a')['href']\n",
    "    offender_information_url.append('https://www.tdcj.texas.gov/death_row/'+offender_information_url_i)"
   ]
  },
  {
   "cell_type": "code",
   "execution_count": 12,
   "metadata": {},
   "outputs": [],
   "source": [
    "# last_statement_url\n",
    "last_statement_url=[]\n",
    "for i in range(1,571):\n",
    "    last_statement_url_i=soup.find_all('tr')[i].find_all('td')[2].find('a')['href']\n",
    "    last_statement_url.append('https://www.tdcj.texas.gov/death_row/'+last_statement_url_i)"
   ]
  },
  {
   "cell_type": "code",
   "execution_count": 77,
   "metadata": {},
   "outputs": [],
   "source": [
    "# last_name\n",
    "last_name=[]\n",
    "for i in range(1,571):\n",
    "    last_name_i=soup.find_all('tr')[i].find_all('td')[3].text\n",
    "    last_name.append(last_name_i)"
   ]
  },
  {
   "cell_type": "code",
   "execution_count": 78,
   "metadata": {},
   "outputs": [],
   "source": [
    "# first_name\n",
    "first_name=[]\n",
    "for i in range(1,571):\n",
    "    first_name_i=soup.find_all('tr')[i].find_all('td')[4].text\n",
    "    first_name.append(first_name_i)"
   ]
  },
  {
   "cell_type": "code",
   "execution_count": 79,
   "metadata": {},
   "outputs": [],
   "source": [
    "# TDCJ_Number\n",
    "TDCJ_Number=[]\n",
    "for i in range(1,571):\n",
    "    TDCJ_Number_i=soup.find_all('tr')[i].find_all('td')[5].text\n",
    "    TDCJ_Number.append(TDCJ_Number_i)"
   ]
  },
  {
   "cell_type": "code",
   "execution_count": 80,
   "metadata": {},
   "outputs": [],
   "source": [
    "# age\n",
    "age=[]\n",
    "for i in range(1,571):\n",
    "    age_i=soup.find_all('tr')[i].find_all('td')[6].text\n",
    "    age.append(age_i)"
   ]
  },
  {
   "cell_type": "code",
   "execution_count": 81,
   "metadata": {},
   "outputs": [],
   "source": [
    "# date\n",
    "date=[]\n",
    "for i in range(1,571):\n",
    "    date_i=soup.find_all('tr')[i].find_all('td')[7].text\n",
    "    date.append(date_i)"
   ]
  },
  {
   "cell_type": "code",
   "execution_count": 82,
   "metadata": {},
   "outputs": [],
   "source": [
    "# race\n",
    "race=[]\n",
    "for i in range(1,571):\n",
    "    race_i=soup.find_all('tr')[i].find_all('td')[8].text\n",
    "    race.append(race_i)"
   ]
  },
  {
   "cell_type": "code",
   "execution_count": 83,
   "metadata": {},
   "outputs": [],
   "source": [
    "# county\n",
    "county=[]\n",
    "for i in range(1,571):\n",
    "    county_i=soup.find_all('tr')[i].find_all('td')[9].text\n",
    "    county.append(county_i)"
   ]
  },
  {
   "cell_type": "code",
   "execution_count": 88,
   "metadata": {},
   "outputs": [
    {
     "output_type": "stream",
     "name": "stdout",
     "text": [
      "(570, 10)\n"
     ]
    }
   ],
   "source": [
    "# 合并数据\n",
    "data={'execution':execution, 'offender_information_url':offender_information_url, 'last_statement_url':last_statement_url, 'last_name':last_name, 'first_name': first_name,'TDCJ_Number':TDCJ_Number, 'age':age, 'date':date, 'race':race, 'county':county}\n",
    "df=pd.DataFrame(data)\n",
    "df.to_excel('Death Row Information.xlsx')\n",
    "print(df.shape)"
   ]
  },
  {
   "cell_type": "code",
   "execution_count": 93,
   "metadata": {
    "tags": [
     "outputPrepend"
    ]
   },
   "outputs": [
    {
     "output_type": "stream",
     "name": "stdout",
     "text": [
      "alcom X, Martin Luther King, and others who stood up for what was right. They stood up for what was just. We must, you must brothers, that's why I have called you today. You must carry on that condition. What is here is just a lynching that is taking place. But they're going to keep on lynching us for the next 100 years, if you do not carry on that tradition, and that period of resistance. We will prevail. We may loose this battle, but we will win the war. This death, this lynching will be avenged. It will be avenged, it must be avenged. The people must avenge this murder. So my brothers, all of ya'll stay strong, continue to move forward.  Know that I love all of you. I love the people, I love all of you for your blessing, strength, for your courage, for your dignity, the way you have come here tonight, and the way you have protested and kept this nation together. Keep moving forward, my brothers. Slavery couldn't stop us. The lynching couldn't stop us in the south. This lynching will not stop us tonight. We will go forward. Our destiny in this country is freedom and liberation. We will gain our freedom and liberation by any means necessary. By any means necessary, we keep marching forward.  I love you, Mr. Jackson. Bianca, make sure that the state does not get my body. Make sure that we get my name as Shaka Sankofa. My name is not Gary Graham. Make sure that it is properly presented on my grave. Shaka Sankofa.  I died fighting for what I believe in. I died fighting for what was just and what was right. I did not kill Bobby Lambert, and the truth is going to come out. It will be brought out.  I want you to take this thing off into international court, Mr. Robert Mohammed and all ya'll. I want you, I want to get my family and take this down to international court and file a law suit. Get all the video tapes of all the beatings. They have beat me up in the back. They have beat me up at the unit over there. Get all the video tapes supporting that law suit. And make the public exposed to the genocide and this brutality world, and let the world see what is really happening here behind closed doors. Let the world see the barbarity and injustice of what is really happening here. You must get those video tapes. You must make it exposed, this injustice, to the world. You must continue to demand a moratorium on all executions. We must move forward Minister Robert Mohammed.  Ashanti Chimurenga, I love you for standing with me, my sister. You are a strong warrior queen. You will continue to be string in everything that you do. Believe in yourself, you must hold your head up, in the spirit of Winnie Mandela, in the spirit of Nelson Mandela. Ya'll must move forward. We will stop this lynching.  Reverend Al Sharpton, I love you, my brother.  Bianca Jagger, I love all of you. Ya'll make sure that we continue to stand together. Reverend Jesse Jackson and know that this murder, this lynching will not be forgotten. I love you, too, my brother. This is genocide in America. This is what happens to black men when they stand up and protest for what is right and just. We refuse to compromise, we refuse to surrender the dignity for what we know is right. But we will move on, we have been strong in the past. We will continue to be strong as a people. You can kill a revolutionary, but you cannot stop the revolution. The revolution will go on. The people will carry the revolution on. You are the people that must carry that revolutionary on, in order to liberate our children from this genocide and for what is happening here in America tonight. What has happened for the last 100 or so years in America. This is the part of the genocide, this is part of the African (unintelligible), that we as black people have endured in America. But we shall overcome, we will continue with this. We will continue, we will gain our freedom and liberation, by any means necessary. Stay strong. They cannot kill us. We will move forward.  To my sons, to my daughters, all of you. I love all of you. You have been wonderful. Keep your heads up. Keep moving forward. Keep united. Maintain the love and unity in the community.  And know that victory is assured. Victory for the people will be assured. We will gain our freedom and liberation in this country. We will gain it and we will do it by any means necessary. We will keep marching. March on black people. Keep your heads high. March on. All ya'll leaders. March on. Take your message to the people. Preach the moratorium for all executions. We're gonna stop, we are going to end the death penalty in this country. We are going to end it all across this world. Push forward people. And know that what ya'll are doing is right. What ya'll are doing is just. This is nothing more that pure and simple murder. This is what is happening tonight in America. Nothing more than state sanctioned murders, state sanctioned lynching, right here in America, and right here tonight. This is what is happening my brothers. Nothing less. They know I'm innocent. They've got the facts to prove it. They know I'm innocent. But they cannot acknowledge my innocence, because to do so would be to publicly admit their guilt. This is something these racist people will never do. We must remember brothers, this is what we're faced with. You must take this endeavor forward. You must stay strong. You must continue to hold your heads up, and to be there. And I love you, too, my brother. All of you who are standing with me in solidarity. We will prevail. We will keep marching. Keep marching black people, black power. Keep marching black people, black power. Keep marching black people. Keep marching black people. They are killing me tonight. They are murdering me tonight.  \", 'Written: I wish the public to see my point of inside view that the officers of Death Row of the State of Texas. All the years of 5 or 6 years of my first time being locked up for not doing a crime of this sort. Now, officers of Texas TDCJ are of Terrell Unit, Walls Unit and some of Ellis I are just doing their job for their family. Now there are also respectful inmates death row and population that I\\'ve meet, now I say to all of you just realizing what crime is about, don\\'t do it. One way I\\'ve thought of was having your friends \"inmate\" to witness your execution talking about those of population and first timers. I just want to give those officers that respected me while in prison of TDCJ Death Row. May God bless you all of TDCJ and inmates especially the free-world population. With Gods and my words of faith, Paul Selso Nuncio.  ', \"Hey, how are ya'll doing? Alright, it's gong to be alright. There's some guys I didn't get a chance to visit with, ah I met when I first drove up here…Lester Byers, Chris Black, Alba, John Alba, and Rosales Rock. You know who you are. The Raiders are going all the way, ya'll (mumbles…Mo-B). Ya'll pray for me. And it's going to be alright. That's it and it's time to roll up out of her. It's going down, let's get it over with. That's it.  \", \" I understand that Michael Skains is supposed to be here somewhere. They did everything but make sure I got a fair trial to prove I was innocent. I wasn't the one who had the gun to give to police and all these altered records from the District Attorney's office and the Attorney General's office, that's why Michael Sputnick got fired and ran off when I filed these appeals. Not one of my sell out lawyers would use this evidence, because they all work as a conspiracy with the court. No doubt about it. Jack King did everything he could to keep me from making arms and showing this evidence. They wait till the hearing was over and then make the arguments in the court or on paper where nobody can rebut it or contradict the testimony or arguments. There's more than 30 altered and falsified records saying I told so and so this or that, but you go look in their record, it does not say Thomas Mason called them at all and told them anything. But that's okay. All this evidence is being saved, so Jack King can laugh all he wants like he's the big hero, after this is over with, that's fine. But the person that had the gun, they know was not Thomas Mason, so who's getting the last laugh after all? The guy that got away. But Jack King knows he illegally convicted me of all these falsified altered records. My sister's got the document that my lawyer filed, but he didn't file with the court. It's got the signature on it. He put this all in one record. So it's going to be saved. It ain't going to be destroyed just because I'm dead. Everybody's got to go sooner or later and sooner or later everyone of ya'll will be along behind me. That's all I got to say.  \", \"To the Davis family, I am sorry for all of the pain that I caused your family. It was me and me alone. Anthony Graves had nothing to do with it. I lied on him in court. My wife had nothing to do with it. Anthony Graves don't even know anything about it. My wife don't know anything about it. But, I hope that you can find your peace and comfort in strength in Christ Jesus alone. Like I said, I am sorry for hurting your family. And it is a shame that it had to come to this. So I hope that you don't find peace, not in my death, but in Christ. Cause He is the only one that can give you the strength that you need.And to my family, I love you. Ah, you have been a blessing to me and I love you all and one day I will see y'all, so I hope y'all find y'all peace, comfort, and strength in Christ Jesus alone, because that's where it's at. Abul, behold your son, and Anitra, behold your mother. I love you. I am ready to go home and be with my Lord.  \", \"I would like to take this time to, ah, to use this moment an example for Christ. I would like to follow his example and leave with peace in my heart and forgiveness. There is no anger in my heart about this entire situation. I just want to testify to all of y'all that I have loved you. I appreciate your concern and genuine love for me. God bless you. I love all of all. Jesus is Lord.  \", \" I have been crucified with Christ. It is no longer I who lives, but Christ who lives in me. So for the life for which I live now in the flesh, I live by faith in the Son of God who loved me and gave himself for me. I love you, Annie. You have been the best friend I have ever had in the world. I'll see you when you get there, okay?  I am ready, Warden.  \", \" Can they talk back? Say I pray for it, I accept it. Pray with me. This is still a statement. Ready? Dear Heavenly Father, forgive us, Lord. I ask that you watch over my Mama and over my sister. I ask this in the name of Christ. I also repent for all my sins, Lord. I pray that you will bring me home tonight. Please, I ask that I rest in your arms in the name of Christ Jesus I pray this. I truly believe that Jesus died for my sins that I may be resurrected, Lord, that you would do that much. Please, I ask that you not let me down and that I will be with you today in Heaven. Christ Jesus name I pray this.  Donna and everybody else, Mr. Johnson, I ask that y'all will pray for me and that God will bring me home tonight, that he will keep me in Heaven, that I will still be in heaven. Please Lord, I don't want to be in Heaven, I mean I don't want to be in Hell. And, please Lord, I confess my sins. This is your son, Lord Jesus, this is your servant, please, this is your slave. I love you, too. Donna and Mama and Mr. Johnson, I wrote a message. Don't give up, love you all, even the ones that are my enemies. I truly forgive all of y'all in Christ Jesus, we pray. I ask God that he take all the hate out of my heart and away from my soul. Please, please, Lord, don't fail me. I don't know is Margie here now? But if she is, I ask her forgiveness. I ask that you not hold nothing against me or my family from this day forward, and hold no hate toward them. I don't know. I can't hear you, you may forgive me, and you may not. Forgive Mike Allison, forgive McHenry, forgive us all. Whatever the cost may be I love you. Take care of my Mama. Donna, I ask you to take care of my Mama, too. Whenever you get mad at her, you remember me. Remember I may be back. Mama, I am going to try to make that promise to you. I gonna ask God to allow his child to come back to see you. Cause I am in Heaven. At time I can come (unintelligible). Okay, Mr. Johnson, you take care, let my Mama's will be done. One more prayer, then we may proceed. Heavenly Father, I confess my sins, really I do. Let me know that I will be in Heaven tonight. Please let me know. I don't want to be in Hell with Satan or anyone else. Please, that is something I need to know. I ask that Jesus give me help.  In Jesus precious name, I pray this. I ask that you give me those promises, that you assure me that those promises are real. That I am praying right. In Jesus precious name, I pray this. Goodbye, Mama. Goodbye, Donna. \", \"Spoken: Thank you, um, I anticipated that I would try to memorize and recite beatitudes New Testament, more or less, Luke's beatitudes, I should say, and a , a chapter on love in 1st Corinthians chapter 13, ah, I pretty much knew that I would not be able to memorize so much. There was also a poem that went along with it and in anticipation of not being able to, um, fulfill that desire, I provided a written statement that will be made available to anybody that wants it, I believe. Isn't that correct? So, uh, I wanted you to hear me say that and I apologize and for any other grief I have caused you know, including the, ah, what you're about to witness now. It won't be very long. As soon as you realize that appear I am falling asleep. I would leave because I won't be here after that point. I will be dead at that point. It's irreversible. God bless all of you. Thank you.  \", \"Yes, sir. James Webb, I don't know which one you are out there. I can't remember from the trial. I personally just want to let you know if there has ever been any doubt in your mind at all of what happened, I want you to know that Patty was always faithful to you, that I forced her for everything that she did and I am sorry. I just don't know how to tell ya'll I am sorry for what I did. There is no way for expressing I am sorry. I just hope that in some kind of way that ya'll can move on and find peace in your life. The Lord has given me peace and that is all that I pray for is that ya'll can find that peace. I just want you to know that I am sorry for what I done. I can't change that, all I can do is say I am sorry, that's nothing for what I have done. I can't replace your loss. I am sorry. I just want you to know that I love all of ya'll. It's been a pleasure, ya'll just keep on with life, it's gonna be good. The Lord's gonna be with us. If it's alright, I just want to say a prayer first. Father, God, I just thank you for the time that you have given me on this earth, for having mercy on somebody like me for all the despicable thing's I've done in my life, Father, but you still with your love and your mercy reach down into my heart and changed it before it's too late. I ask that you bestow peace upon the family of Patricia Webb, that you let them know, Father, that you are in a place where they can obtain that peace, and you will help them move on in their life, Father. Help them, Father, to find it in their hearts, not for my sake , but for yours, and their sake to, Father, find it in their heart to forgive me for what I have done. Father, I just ask that you be with my family and comfort them to move on Father. Father, we are all here today for the mistake that I have made and I thank you for your mercy for sending your Son into this life, that we might come to know you, Father. Father, I pray for these Wardens and the officers and the people that deal with all of this, Father, I ask that you touch their hearts, Father, and if there is any wrong to it, that you will forgive them, Father. Just let them know that you love them, Father, and that You are the way. I just thank you and in Jesus' name, I pray, Amen. I love ya'll, ya'll take care. I am so sorry.  \", \" Yes sir, I would like to address the Robinson family. There is nothing I can say here or anything I could probably do. Now you are all probably mad at me and I would probably be in the same situation you all in if anybody I thought killed anybody in my family ahh. If I knew who killed Rosalyn I would let you know, but, I am going to say this: I am going to heaven with God as my witness. Ros was a personal friend of mine. She was a beautiful person, very educated, her. I'm very tight with the Robinson family. She was proud that she had a father that was a doctor. My family is not here present and that is by my wish and my wish only. Now the tables is turned. You are all here, the Robinson family is her to see me executed. That is something that I would not want for my family. In no form or fashion would I have ever want to see Rosalyn dead. I left the scene of where the incident happened. I guarantee you if I would have been there you would not be standing where you are if I would have been there. You all have some very serious look on your face and something very serious fixin' to happen now. I will say this on my own behalf but then again I know it is not going to make any difference but what you fixing to witness is not a nice thing. It's not nice. It's not nice. The media. I would just like to address to the media with everybody's permission. I would like to say before I go that it has been said that I have shown no remorse, but if you look at my record and my background, ask anybody that know me that in order for me to show any kind of remorse for killing that ever been done, this one time I can't show no remorse for something that I did not do and if I did I would be faking. I would totally be faking and believe me there is nothing fake about me. Nothing fake. I've done wrong, sure, I've paid the time. This is one time that I know I cannot show no remorse for something that I did not do. I am at peace, please believe me. Wherefore, I figure that what I am dying for now is what I have done in my past. This is what I am dying for. Not for killing Rosalyn. I don't know what ya'll call her but I call her Ros, I call her Ros. That's it.  \", 'Last Verbal Statement: No sir, I just want to pray a chant, do what you have to do.  ', 'This offender declined to make a last statement.  ', \" I'd like to send great love to all my family members, my supporters, my attorneys. They have all supported me throughout this. I thank you for proving my innocence, although it has not been acknowledged by the courts. May you continue in the struggle and may you change all that's being done here today and in the past. Life has not been that good to me, but I believe that now, after meeting so many people who support me in this, that all things will come to an end, and may this be fruit of better judgments for the future. That's all I have to say.  \", 'This offender declined to make a last statement.  ', \" I'd like to apologize to the victim's family. Ah, no ah, I really can't say, I don’t think I can say anything that will help, but I hope through your God, you can forgive me. I'm definitely not the person now that I was then. I was sick, afraid, and looking for love in all the wrong ways. I've caused you pain and grief beyond ever dreaming to cause someone of. I hope you will be able to forgive me. To my mother, I love you very much. Thanks, Jones.  \", \" Dad, I love you both. You've been the best. All of you, all of you have truly been the best. And ah, I believe I'm going home. I'm sorry, and I really mean that, it's not just words. My life is all I can give. I stole 2 lives and I know it was precious to ya'll. That's the story of my whole life, that's what alcohol will do for you. Oh Jesus, Lord God, take me home. Precious Lord. Take me home Lord. Take me home. Yes, sir. Take me home oh Lord.  \", 'This offender declined to make a last statement.  ']\n"
     ]
    }
   ],
   "source": [
    "# 爬取342-365last statement里面的内容\n",
    "last_statement1=[]\n",
    "import time\n",
    "for url in last_statement_url[342:366]:\n",
    "    time.sleep(1)\n",
    "    last_req = Request(url, headers={'User-Agent': 'Mozilla/5.0'})\n",
    "    last_downloaded_url = urlopen(last_req).read()\n",
    "    last_soup = BeautifulSoup(last_downloaded_url)\n",
    "    last_statement_i = last_soup.find_all('p')[-1].text\n",
    "    last_statement1.append(last_statement_i)\n",
    "print(last_statement1)\n",
    "data1={'last_statement':last_statement1}\n",
    "df1=pd.DataFrame(data1)\n",
    "df1.to_excel('Last_statement342-366.xlsx')"
   ]
  },
  {
   "cell_type": "code",
   "execution_count": 94,
   "metadata": {},
   "outputs": [
    {
     "output_type": "stream",
     "name": "stdout",
     "text": [
      "['This offender declined to make a last statement.  ', \" Yes, I do. I want to tell you all how much I love you all, how much I appreciate everything. I love you all and my family. I treasure every moment that I have had. I want the guys to know out there not to give up, not to give in, that I hope someday the madness in the system, something will come about, something will be resolved.  I would gladly trade the last 24 years if it would bring back Mark Fredericks. Give him back his life, give back my father his life, and my mother her health. All I ask is that I have one day and all the memories of you and my family and all the things that have happened. They are executing an innocent man because things did not happen as they say they happen and there's. The truth will come out someday. I am not the same person as I was 24 years ago. Who would have thought it would have taken 24 years to get to this moment? Don't give up, don't give in. If I am paying my debt to society, I am due a rebate and a refund, but I love you all and you all watch out for Mom and you all keep up, keep going.  Thank you, Warden.  \", 'This offender declined to make a last statement.  ', \" Hey, how y'all doing out there? I done lost my voice. Y'all be strong now, alright? Don, thanks man. I love you, Gloria, always baby. That's all I got to say. Hey, don't y'all worry about me, okay?  \", \" To my family, I love them. To Kami, I love you and will always be with you. That's it Warden.  \", \"Love ya'll, see you on the other side.  \", ' Like to tell my friends that I love them. Appreciate them being here to support me. Alison, I love you.  ', \"Well, first, My people, you guys have heard everything I needed to say today. I hope I said the right things. I hope you heard me. And I hope you go beyond here and do what you need to do, do the right thing. Strength in numbers. Look out for each other. You still got a chance with Shawn. Edwin you know what you gotta do. You have my love. It's the right thing. And for everybody else, those people who have malice in their heart, allow ambitions to over ride what they know. Be right. Even though they just gotta do their job. For all of you with hatred in their veins, and think this is ashamed. You've done nothing. I did this, I chose this, you've done nothing. Remember this, if all you know is hatred, if all you know is blood love, you'll never be satisfied. For everybody out there that is like that and knows nothing but negative, kiss my proud white Irish ass. I'm ready Warden, send me home.  \", \" I want to start out by acknowledging the love that I've had in my family. No man in this world has had a better family than me. I had the best parents in the world. I had the best brothers and sisters in the world. I've had the most wonderful life any man could have ever had. I've never been more proud of anybody than I have of my daughter and my son. I've got no complaints and no regrets about that. I love everyone of them and have always been loved all of my life. I've never had any doubts about that. Couple of matters that I want to talk about since this is one of the few times people will listen to what I have to say. The Unites States has gotten to a now where they zero respect for human life. My death is just a symptom of a bigger illness. At some point the government has got to wake up and stop doing things to destroy other countries and killing innocent children. The ongoing embargo and sanctions against places like Iran and Iraq, Cuba and other places. They are not doing anything to change the world, but they are harming innocent children. That's got to stop at some point. Perhaps more important in a lot of ways is what we are doing to the environment is even more devastating because as long as we keep going the direction we're going the end result is it won't matter how we treat other people because everybody on the planet will be on their way out. We have got to wake up and stop doing that. Ah, one of the few ways in the world the truth is ever going to get out, or people are ever going to know what's happening as long as we support a free press out there. I see the press struggling to stay existent as a free institution One of the few truly free institutions is the press in Texas. People like the Texas Observer and I want to thank them for the job they've done in keeping me and everybody else informed. I hope people out there will support them, listen to them and be there for them. Without it, things like this are going to happen and nobody will even know. I love all of you. I always have I always will. I would like to address the State of Texas and specially Joe Price, the District Attorney who put me here. I want to remind Mr. Price of the mistake he made at Gene Hawthorn's trial when he said that Gene Hawthorn was telling the truth at my trial. Mr. Price is a one-eyed hunting dog. He in fact is not a one-eyed hunting dog, and in fact Gene Hawthorn lied at my trial. Everybody knew it. I'm dying tonight based on testimony, that all parties, me, the man who gave the testimony, the prosecutor he used knew it was a lie. I am hoping somebody will call him to the floor for recent comments he's made in the newspaper. It's bad enough that a prosecutor can take truth and spin on it and try to re-doctor it. But when they actually make facts up and present to the public as trial's evidence. That goes beyond fail, that's completely unforgivable and I hope somebody makes Mr. Price account for or explain the tennis shoes he is talking about that put me here. I'm still completely lost on that and I'm hoping that somebody will go back and verify the trial record and make him accountable for lying to the public and the press that way. That's really all I have to say except that I love my family. and nobody, nobody has got a better family than me. I love you booger bear. I love doodle bug, too. Don't let them ever forget me. I'll never forget them. I'll see you on the other side, okay. Bye bye Debbie. Bye bro, bye booger bear. Father Mike, Father Walsh, love you all. That's all, sir.  \", \" Ah, just ah sorry ya'll. I think of tried everything I could to get in touch with ya'll to express how sorry I am. I, I never was right after that incident happened. I sent a letter to somebody, you know a letter outlining what I feel about everything. But anyway I just wanted, right after that apologize to you. I'm real sorry for it. I was raised by the California Youth Authority, I can't really pin point where it started, what happened but really believe that's just the bottom line, what happened to me was in California. I was in their reformatory schools and penitentiary, but ah they create monsters in there. That's it, I have nothing else to say. Thanks for coming Jack.  \", ' Mama Isabel told me to tell you hello. Holy, holy, holy! Lord God Almighty! Early in the morning our song shall rise to Thee; Holy, holy, holy, merciful and mighty! God in three Persons, blessed Trinity. Holy, holy, holy! Merciful and mighty. All Thy works shall praise Thy name, in earth, and sky, and sea; Holy, holy, holy, merciful and mighty! God in three Persons, blessed Trinity. Oh, our Father who art in heaven, holy, holy, holy be Thy name. Thy kingdom come, Thy will be done, on earth as it is in heaven. Give us this day our daily bread and forgive us our sin as we forgive our debtors. Lead us not into temptation, but deliver us from evil, for Thine is the kingdom and the power and the glory forever and ever. Now, Father, into Thy hands I commit my spirit. Amen.  ', \" I'm sorry, I wish I could bring them back. I'm done, let's do it.  \", 'This offender declined to make a last statement.  ', 'English: I love you. I will be waiting for you on the other side. Son be strong no matter what happens, know that God is looking over you. Jesus mercy, Jesus mercy, Jesus mercy! Spanish: Brother-in-law, take care of the family and let it be united. Yoli. German: Menic schone prizessin. Du list all mine herz and seele, rind ich liele dich so sehm! (Translation: My beautiful princess. You are all my heart and soul and I love you so much.  ', 'This offender declined to make a last statement.  ', \" I would like to say a little something. I just want to say I'm sorry to the family. I know I caused you a lot of pain and suffering and I hope that you will find some peace and comfort in this. That if there is any anger you can let it go. Not let it come between you and God. Sorry for causing everybody such trouble tonight, Bruce, Joe, ya'll all treat me with respect I appreciate it. I really do. I just want to tell my family, everybody I love and I want you to know that I love you, and that God loves you too. Everything is going to be just fine, just fine. I love ya'll. That's it.  \", 'This offender declined to make a last statement.  ', ' I would like to give thanks to God Almighty, by whose grace I am saved through His son, Jesus Christ, without whom I would be nothing today. Because of this mercy and grace, I have come a long way, and I would like to thank God and others who have been instrumental. I would like to say to the Lang family how truly sorry I am in my soul and in my heart of hearts for the pain and misery that I have caused from my actions. I am truly sorry. And to my family I would also like to extend to them the same apology for the pain and misery that I have put them through, and I love them dearly from the bottom of my heart, and one day I would like to see them on the other side. Some I will; some I won’t. I would like to thank all of the men on Death Row who have showed me love throughout the years, but especially the last two or three weeks, and I hold nothing against no man. I am so thankful that I have lived as long as I have. I hope that I have helped someone. I hope that [by] donating my body to science that some parts of it can be used to help someone, and I just thank the Lord for all that he has done for me. That is all I have to say, Warden.  Oh, I would like to say in closing, \"What about those cowboys?\"  ', ' Yes, I would like to give love to my mother, sisters and brothers and let them know that I am thinking of them right now and I want to thank God for giving me such a loving family. To the victim’s family: I hope you will find it in your heart to forgive me as I have forgiven you. I’m ready, Warden.  ', 'This offender declined to make a last statement.  ', 'This offender declined to make a last statement.  ', 'This offender declined to make a last statement.  ', 'This offender declined to make a last statement.  ', 'I want you all to know I did not do this crime. I wanted to wait for a thirty day stay for a DNA test so you know who did the crime.']\n"
     ]
    }
   ],
   "source": [
    "# 爬取365-388last statement里面的内容\n",
    "last_statement2=[]\n",
    "import time\n",
    "for url in last_statement_url[365:389]:\n",
    "    time.sleep(1)\n",
    "    last_req = Request(url, headers={'User-Agent': 'Mozilla/5.0'})\n",
    "    last_downloaded_url = urlopen(last_req).read()\n",
    "    last_soup = BeautifulSoup(last_downloaded_url)\n",
    "    last_statement_i = last_soup.find_all('p')[-1].text\n",
    "    last_statement2.append(last_statement_i)\n",
    "print(last_statement2)\n",
    "data2={'last_statement':last_statement2}\n",
    "df2=pd.DataFrame(data2)\n",
    "df2.to_excel('Last_statement365-388.xlsx')"
   ]
  },
  {
   "cell_type": "code",
   "execution_count": 95,
   "metadata": {},
   "outputs": [
    {
     "output_type": "stream",
     "name": "stdout",
     "text": [
      "['This offender declined to make a last statement.  ', 'Yes, to my family, I love you. Please do not mourn my death or my life. Continue to live as I want you to live. I hold no bitterness toward no one. Just remember the light. I’m gonna let this light shine. Let it shine. Let the light shine.', 'Warden, ATW.', 'This offender declined to make a last statement.  ', 'This offender declined to make a last statement.  ', 'This offender declined to make a last statement.  ', 'This offender declined to make a last statement.  ', 'Adios, amigos, I’ll see ya’ll on the other side. I’m ready when ya’ll are.', 'This offender declined to make a last statement.  ', 'Tell the kids I love them and I’ll be there. That’s all I have to say.', 'This offender declined to make a last statement.  ', 'This offender declined to make a last statement.  ', 'I want to talk to my friends over here for a second. Well, it’s good to see you guys. Look after Mary Lynn for me. Like I said, I’ve called my mother already, so she knows. Goodbye.', 'For the pain I have caused you. I am ashamed to even look at your faces. You are great people. To my brothers on Death Row. Mexico, Mexico…(Spanish).', 'I am being charged under article 19.83 of the Texas Penal Code of murder with the promise of remuneration. That means they got to have three people, the one that paid, the one that killed, and the deceased. And the alleged remunerator is out on the streets, so how come I’m being executed today, without a remunerator? This is a great American justice. So if you don’t think they won’t, believe me they will. Ain’t no telling who gonna be next. That’s all I have to say. Especially for the people of the deceased, Sims is innocent and so am I. So the murder is still not there. Today you are a witness, the state (cough). Bye.', 'I have nothing but love for all of you. Like they say in the song, I guess, I just want to go out like Elijah, on fire with the spirit of God. I love you. I’m done.', 'I’d like to apologize and ask forgiveness for any pain and suffering I have inflicted upon all of you, including my family. All of you, I am very sorry. There is a point where a man wants to die in judgment. Though my judgment is merciful, I hope and pray that all those involved as well as the judgment upon ya’ll, will one day be more merciful than mine. God bless you all. God speed. I love you. Remain strong. Ask God to have mercy. I love you all, too. I’m very sorry. I’ve got to go now. I love you.  ', 'As the ocean always returns to itself, love always returns to itself. So does consciousness, always returns to itself. And I do so with love on my lips. May God bless all mankind.', 'I just want to tell Catharina I love you. Take care of yourself. That’s all I have to say.', 'I guess the first thing I want to do is thank some very special people, Sara and Sabrina. And for affording me the opportunity that ya’ll did. It made a real big difference in my life. I thank you. Thank you again from the deepest part of my heart. I’m sorry. The biggest thing I wanted to say was to you and family and I know I haven’t had a chance to talk with ya’ll in any form or fashion or way or manner. And I regret what happened and I want you to know that I’m sorry. I just ask and hope that sometime down the line that you can forgive me. I think in a lot of ways that without that it becomes very empty and hollow and the only thing we have is hatred and anger. I guess the only thing I have to say about the Death Penalty is that a lot of times people think of it as one sided, but it’s not. It’s two sided. There pain on both sides and it’s not an issue that people just sit there and voice off and say, well, this is a good thing, or this is a bad thing. But it’s something that’s, you know, needs to be looked at and desired in each heart. I just hope that all of you can understand that and someday forgive me. I want to thank ya’ll for affording me the opportunity to talk and meet with ya’ll. It meant so much. Thank you so much for being with me and my family. Thank you. I love you.', 'I’m ready to be released. Release me.  ', 'And now these three remain: faith, hope and love. But the greatest of these is love.', 'Thank you for setting me free. God bless you all. I love you, Miguel. Take care of my angel, Leslie. Love, Javier Cruz']\n"
     ]
    }
   ],
   "source": [
    "# 爬取389-411last statement里面的内容\n",
    "last_statement3=[]\n",
    "import time\n",
    "for url in last_statement_url[389:412]:\n",
    "    time.sleep(1)\n",
    "    last_req = Request(url, headers={'User-Agent': 'Mozilla/5.0'})\n",
    "    last_downloaded_url = urlopen(last_req).read()\n",
    "    last_soup = BeautifulSoup(last_downloaded_url)\n",
    "    last_statement_i = last_soup.find_all('p')[-1].text\n",
    "    last_statement3.append(last_statement_i)\n",
    "print(last_statement3)\n",
    "data3={'last_statement':last_statement3}\n",
    "df3=pd.DataFrame(data3)\n",
    "df3.to_excel('Last_statement365-388.xlsx')"
   ]
  },
  {
   "cell_type": "code",
   "execution_count": 99,
   "metadata": {},
   "outputs": [
    {
     "output_type": "stream",
     "name": "stdout",
     "text": [
      "['Keep it brief here. Just want to say, uh, family, take care of yourselves. Uh, look at this as a learning experience. Everything happens for a reason. We all know what really happened, but there are some things you just can’t fight. Little people always seem to get squashed. It happens. Even so, just got to take the good with the bad. There is no man that is free from all evil, nor any man that is so evil to be worth nothing. But it’s all part of life, and my family, take care of yourselves. Tell my wife I love her. I’ll keep an eye on everybody, especially my nieces and nephews. I’m pretty good. I love ya’ll. Take care. I’m ready.', 'Est Sularus Oth Mithas (My Honor Is My Life).', 'I love you all. We had a good service and I’ll be with you. I’ll be waiting for you in Heaven. Ok. Adios. That’s all I have to say.', 'This offender declined to make a last statement.  ', 'I want to tell you folks there, of a… I have a love in my heart for you. I hope you don’t look for satisfaction or comfort or peace in my execution. Jesus Christ is my Lord and Savior and I want him to be yours. I’m sorry for the pain and heartache I’ve caused your family. Too many years I’ve caused all my family problems and heartache. I’m sorry. I wanted to let you know that the Lord Jesus is my life and I just want to go. I’m gonna fall asleep and I’ll be in his presence shortly. I got reason to rejoice and I pray to see all of you there someday.  ', 'Lord Jesus Christ, son of Almighty God, [have] mercy on me as a sinner, forgive me of my sins. I would like to offer up my death for the conversion of sinners on Death Row. Lord Jesus, into your hands I command my spirit.', 'That’s all I have to say.', 'I love you all.', 'I owe no apologies for a crime I did not commit. Those who lied and fabricated evidence against me will have to answer for what they have done. I know in my heart what I did and I call upon the spirit of my ancestors and all of my people and I swear to them and now I am coming home.  ', 'This offender declined to make a last statement.  ', 'All right', 'O.K., I’m ready.  ', 'Take my hand, Lord Jesus, I’m coming home.', 'I love all of you very much. I am going to be face to face with Jesus now. Warden Baggett, thank all of you so much. You have been so good to me. I love all of you very much. I will see you all when you get there. I will wait for you.', 'A lot of people view what is happening here as evil, but I want you to know that I found love and compassion here. The people who work here, I thank them for the kindness they have shown me and I deeply appreciate all that has been done for me by the people who work here. That’s all, Warden, I’m ready.  ', 'You all brought me here to be executed, not to make a speech. That’s it.  ', 'Yes, I do. I would like to tell the surviving victims here, society, my family and friends, that I ask that they forgive me for anything I have done. I beg for your forgiveness. I would like to ask the Lord Jesus Christ for forgiveness and say that in spite of my circumstances, I have been blessed by Him. My first thought is that Jesus Christ came down and separated the humans from God. I would like to see that wall that separates these groups here tonight brought down and that we would all have love and compassion for one another and that you all build a future for all of us. There are a lot of men on the Row who need to be remembered. I love all…', 'Jesus, the Lord, is everything to me. I am nothing without him. Praise Jesus. Praise God', 'That is about all I have to say.  ', 'Tell my brothers I love them. You all be strong.', 'I want to thank all of my friends for supporting me and for being here for me. Thank all of my friends on the row. Thank you Lord. I am finished.  ', 'I am finished.', 'I would like to apologize to the victim’s family for all of the pain I have caused them. I would like to tell my family I love them and I hope to see them again soon. Lord Jesus, thank you for giving me the strength and the time in my life to find Jesus Christ and to be forgiven for all of my sins. Thank you for the changes in my life you have given me, the love and closeness of my family, and my beautiful daughter. Thank you for using me -', 'This offender declined to make a last statement.']\n"
     ]
    }
   ],
   "source": [
    "# 爬取412-435last statement里面的内容\n",
    "last_statement4=[]\n",
    "import time\n",
    "for url in last_statement_url[412:436]:\n",
    "    time.sleep(1)\n",
    "    last_req = Request(url, headers={'User-Agent': 'Mozilla/5.0'})\n",
    "    last_downloaded_url = urlopen(last_req).read()\n",
    "    last_soup = BeautifulSoup(last_downloaded_url)\n",
    "    last_statement_i = last_soup.find_all('p')[-1].text\n",
    "    last_statement4.append(last_statement_i)\n",
    "print(last_statement4)\n",
    "data4={'last_statement':last_statement4}\n",
    "df4=pd.DataFrame(data4)\n",
    "df4.to_excel('Last_statement412-435.xlsx')"
   ]
  },
  {
   "cell_type": "code",
   "execution_count": 98,
   "metadata": {},
   "outputs": [
    {
     "output_type": "stream",
     "name": "stdout",
     "text": [
      "['I would like to thank the Chaplain and all the rest who have offered their prayers.', 'Well, my friends in my heart, I’m ready –', 'I will wait for you –', 'Fight for the good.  ', 'Goodbye, sun, I love you.', 'I am ready, Warden.', 'I want my friends to know it is not the way to die, but I belong to Jesus Christ. I confess my sins. I have…', 'O.K., Warden.', 'That’s it.  ', 'I am ready, Warden.  ', 'Praise Allah –  (some more Allah mumbling)', '(There were some unintelligible sentences.)', 'I would like to apologize for all of the hurt, pain and disappointment I caused to my family and all my friends.  I hope all the veterans and teenagers out there who have a drug problem will get help.  I hope the lord will forgive me of all of my sins.  I thank Jack and Kathy for being with me.  I hope that those who support the Death Row inmates will continue to work and maybe we can get this resolved and do away with the Death Penalty.  I hope this is a lot better place where I am going.', 'I want to let all of my people know and everybody who is here and supported me that I love them and wish them all the best.', 'I would like to thank my Lord Jesus Christ for keeping me strong all these years. I would also like to thank my mother for standing by me all these years. I would also like to thank my pen pals, Joe and Camille Tilling and JoAnn for helping me stay strong all these years. I also thank my two lawyers, Rita and Brent, for fighting to keep me alive. I love you, Mom -', 'This offender declined to make a last statement.  ', 'Amen.', 'I want you to know that I did not kill anyone. I love you all. (Offender’s words were not clear)', 'This offender declined to make a last statement.  ', 'This offender declined to make a last statement.  ']\n"
     ]
    }
   ],
   "source": [
    "# 爬取436-455last statement里面的内容\n",
    "last_statement5=[]\n",
    "import time\n",
    "for url in last_statement_url[436:456]:\n",
    "    time.sleep(1)\n",
    "    last_req = Request(url, headers={'User-Agent': 'Mozilla/5.0'})\n",
    "    last_downloaded_url = urlopen(last_req).read()\n",
    "    last_soup = BeautifulSoup(last_downloaded_url)\n",
    "    last_statement_i = last_soup.find_all('p')[-1].text\n",
    "    last_statement5.append(last_statement_i)\n",
    "print(last_statement5)\n",
    "data5={'last_statement':last_statement5}\n",
    "df5=pd.DataFrame(data5)\n",
    "df5.to_excel('Last_statement436-455.xlsx')"
   ]
  },
  {
   "cell_type": "code",
   "execution_count": 100,
   "metadata": {},
   "outputs": [
    {
     "output_type": "stream",
     "name": "stdout",
     "text": [
      "['ÿØÿà JFIF    d d  ÿþ LEAD Technologies Inc. V1.01 ÿÛ C \\t\\n\\t\\t$\" + \"', 'ÿØÿà JFIF    d d  ÿþ LEAD Technologies Inc. V1.01 ÿÛ C \\t\\n\\t\\t$\" + \"', 'ÿØÿà JFIF    d d  ÿþ LEAD Technologies Inc. V1.01 ÿÛ C \\t\\n\\t\\t$\" + \"', 'ÿØÿà JFIF    d d  ÿþ LEAD Technologies Inc. V1.01 ÿÛ C \\t\\n\\t\\t$\" + \"', 'ÿØÿà JFIF    d d  ÿþ LEAD Technologies Inc. V1.01 ÿÛ C \\t\\n\\t\\t$\" + \"', 'ÿØÿà JFIF    d d  ÿþ LEAD Technologies Inc. V1.01 ÿÛ C \\t\\n\\t\\t$\" + \"', 'ÿØÿà JFIF    d d  ÿþ LEAD Technologies Inc. V1.01 ÿÛ C \\t\\n\\t\\t$\" + \"', 'ÿØÿà JFIF    d d  ÿþ LEAD Technologies Inc. V1.01 ÿÛ C \\t\\n\\t\\t$\" + \"', 'ÿØÿà JFIF    d d  ÿþ LEAD Technologies Inc. V1.01 ÿÛ C \\t\\n\\t\\t$\" + \"', 'ÿØÿà JFIF    d d  ÿþ LEAD Technologies Inc. V1.01 ÿÛ C \\t\\n\\t\\t$\" + \"', 'ÿØÿà JFIF    d d  ÿþ LEAD Technologies Inc. V1.01 ÿÛ C \\t\\n\\t\\t$\" + \"', 'ÿØÿà JFIF    d d  ÿþ LEAD Technologies Inc. V1.01 ÿÛ C \\t\\n\\t\\t$\" + \"', 'ÿØÿà JFIF    d d  ÿþ LEAD Technologies Inc. V1.01 ÿÛ C \\t\\n\\t\\t$\" + \"', 'ÿØÿà JFIF    d d  ÿþ LEAD Technologies Inc. V1.01 ÿÛ C \\t\\n\\t\\t$\" + \"', 'ÿØÿà JFIF    d d  ÿþ LEAD Technologies Inc. V1.01 ÿÛ C \\t\\n\\t\\t$\" + \"', 'ÿØÿà JFIF    d d  ÿþ LEAD Technologies Inc. V1.01 ÿÛ C \\t\\n\\t\\t$\" + \"', 'ÿØÿà JFIF    d d  ÿþ LEAD Technologies Inc. V1.01 ÿÛ C \\t\\n\\t\\t$\" + \"', 'ÿØÿà JFIF    d d  ÿþ LEAD Technologies Inc. V1.01 ÿÛ C \\t\\n\\t\\t$\" + \"', 'ÿØÿà JFIF    d d  ÿþ LEAD Technologies Inc. V1.01 ÿÛ C \\t\\n\\t\\t$\" + \"', 'ÿØÿà JFIF    d d  ÿþ LEAD Technologies Inc. V1.01 ÿÛ C \\t\\n\\t\\t$\" + \"', 'ÿØÿà JFIF    d d  ÿþ LEAD Technologies Inc. V1.01 ÿÛ C \\t\\n\\t\\t$\" + \"', 'ÿØÿà JFIF    d d  ÿþ LEAD Technologies Inc. V1.01 ÿÛ C \\t\\n\\t\\t$\" + \"', 'ÿØÿà JFIF    d d  ÿþ LEAD Technologies Inc. V1.01 ÿÛ C \\t\\n\\t\\t$\" + \"', 'ÿØÿà JFIF    d d  ÿþ LEAD Technologies Inc. V1.01 ÿÛ C \\t\\n\\t\\t$\" + \"', 'Prior Occupation\\r\\nFarmer, Laborer']\n"
     ]
    }
   ],
   "source": [
    "# 爬取342-366offender information-prior occupation里的内容\n",
    "prior_occupation1=[]\n",
    "import time\n",
    "for url in offender_information_url[342:367]:\n",
    "    time.sleep(1)\n",
    "    info_req=Request(url, headers={'User-Agent': 'Mozilla/5.0'})\n",
    "    info_downloaded_url = urlopen(info_req).read()\n",
    "    info_soup = BeautifulSoup(info_downloaded_url)\n",
    "    prior_occupation_i = info_soup.find('p').text\n",
    "    prior_occupation1.append(prior_occupation_i)\n",
    "print(prior_occupation1)\n",
    "data6={'prior occupation':prior_occupation1}\n",
    "df6=pd.DataFrame(data6)\n",
    "df6.to_excel('prior occupation342-366.xlsx')"
   ]
  },
  {
   "cell_type": "code",
   "execution_count": 106,
   "metadata": {},
   "outputs": [
    {
     "output_type": "stream",
     "name": "stdout",
     "text": [
      "['Prior Occupation\\r\\nLaborer']\n"
     ]
    }
   ],
   "source": [
    "# 爬取396offender information-prior occupation里的内容\n",
    "prior_occupation2=[]\n",
    "import time\n",
    "for url in offender_information_url[396:397]:\n",
    "    time.sleep(1)\n",
    "    info_req=Request(url, headers={'User-Agent': 'Mozilla/5.0'})\n",
    "    info_downloaded_url = urlopen(info_req).read()\n",
    "    info_soup = BeautifulSoup(info_downloaded_url)\n",
    "    prior_occupation_i = info_soup.find('p').text\n",
    "    prior_occupation2.append(prior_occupation_i)\n",
    "print(prior_occupation2)\n",
    "data7={'prior occupation':prior_occupation2}\n",
    "df7=pd.DataFrame(data7)\n",
    "df7.to_excel('prior occupation396.xlsx')"
   ]
  },
  {
   "cell_type": "code",
   "execution_count": 107,
   "metadata": {},
   "outputs": [
    {
     "output_type": "stream",
     "name": "stdout",
     "text": [
      "[\"Prior Occupation\\r\\ncarpenter's  helper, bookkeeper\"]\n"
     ]
    }
   ],
   "source": [
    "# 爬取417offender information-prior occupation里的内容\n",
    "prior_occupation2=[]\n",
    "import time\n",
    "for url in offender_information_url[417:418]:\n",
    "    time.sleep(1)\n",
    "    info_req=Request(url, headers={'User-Agent': 'Mozilla/5.0'})\n",
    "    info_downloaded_url = urlopen(info_req).read()\n",
    "    info_soup = BeautifulSoup(info_downloaded_url)\n",
    "    prior_occupation_i = info_soup.find('p').text\n",
    "    prior_occupation2.append(prior_occupation_i)\n",
    "print(prior_occupation2)\n",
    "data7={'prior occupation':prior_occupation2}\n",
    "df7=pd.DataFrame(data7)\n",
    "df7.to_excel('prior occupation417.xlsx')"
   ]
  },
  {
   "cell_type": "code",
   "execution_count": 102,
   "metadata": {},
   "outputs": [
    {
     "output_type": "stream",
     "name": "stdout",
     "text": [
      "['Prior Prison Record\\r\\n  None ']\n"
     ]
    }
   ],
   "source": [
    "# 爬取366offender information-prior prison record里的内容\n",
    "prior_prison_record1=[]\n",
    "import time\n",
    "for url in offender_information_url[366:367]:\n",
    "    time.sleep(1)\n",
    "    info_req=Request(url, headers={'User-Agent': 'Mozilla/5.0'})\n",
    "    info_downloaded_url = urlopen(info_req).read()\n",
    "    info_soup = BeautifulSoup(info_downloaded_url)\n",
    "    prior_prison_record_i = info_soup.find_all('p')[1].text\n",
    "    prior_prison_record1.append(prior_prison_record_i)\n",
    "print(prior_prison_record1)\n",
    "data8={'prior_prison_record':prior_prison_record1}\n",
    "df8=pd.DataFrame(data8)\n",
    "df8.to_excel('prior prisonrecord366.xlsx')"
   ]
  },
  {
   "cell_type": "code",
   "execution_count": 104,
   "metadata": {},
   "outputs": [
    {
     "output_type": "stream",
     "name": "stdout",
     "text": [
      "['Prior Prison Record\\r\\n  None ']\n"
     ]
    }
   ],
   "source": [
    "# 爬取396offender information-prior prison record里的内容\n",
    "prior_prison_record2=[]\n",
    "import time\n",
    "for url in offender_information_url[396:397]:\n",
    "    time.sleep(1)\n",
    "    info_req=Request(url, headers={'User-Agent': 'Mozilla/5.0'})\n",
    "    info_downloaded_url = urlopen(info_req).read()\n",
    "    info_soup = BeautifulSoup(info_downloaded_url)\n",
    "    prior_prison_record_i = info_soup.find_all('p')[1].text\n",
    "    prior_prison_record2.append(prior_prison_record_i)\n",
    "print(prior_prison_record2)\n",
    "data9={'prior_prison_record':prior_prison_record2}\n",
    "df9=pd.DataFrame(data9)\n",
    "df9.to_excel('prior prisonrecord396.xlsx')"
   ]
  },
  {
   "cell_type": "code",
   "execution_count": 105,
   "metadata": {},
   "outputs": [
    {
     "output_type": "stream",
     "name": "stdout",
     "text": [
      "['Prior Prison Record\\r\\n  #441810  on a life sentence for Murder from Grayson  County (the current offense was  committed prior to Boggess being received by the TDCJ-ID for the Murder  conviction from Grayson   County).']\n"
     ]
    }
   ],
   "source": [
    "# 爬取417offender information-prior prison record里的内容\n",
    "prior_prison_record2=[]\n",
    "import time\n",
    "for url in offender_information_url[417:418]:\n",
    "    time.sleep(1)\n",
    "    info_req=Request(url, headers={'User-Agent': 'Mozilla/5.0'})\n",
    "    info_downloaded_url = urlopen(info_req).read()\n",
    "    info_soup = BeautifulSoup(info_downloaded_url)\n",
    "    prior_prison_record_i = info_soup.find_all('p')[1].text\n",
    "    prior_prison_record2.append(prior_prison_record_i)\n",
    "print(prior_prison_record2)\n",
    "data9={'prior_prison_record':prior_prison_record2}\n",
    "df9=pd.DataFrame(data9)\n",
    "df9.to_excel('prior prisonrecord417.xlsx')"
   ]
  },
  {
   "cell_type": "code",
   "execution_count": 8,
   "metadata": {},
   "outputs": [
    {
     "output_type": "stream",
     "name": "stdout",
     "text": [
      "['First off, to the Rosenbaum family, to Cindy, to Scott, to everyone, I just want to say I have nothing but love for you. And I mean that from the deepest part.I can only tell you that Clark did not die in vain. I don’t mean to offend you by saying that, but what I mean by that is, through his death, he led this man to God.I have nothing but love for you.To my family, my soul beloved, you’re so beautiful, for all your love and support is just miraculous, everything that ya’ll have done.Be sure and tell T.D. he’s in my heart. I send my love to Jay, to everyone. To Roger Burdge.I have nothing but love for all of you. Like they say in the song, I guess, I just want to go out like Elijah, on fire with the spirit of God. I love you. I’m done.']\n"
     ]
    }
   ],
   "source": [
    "d = []\n",
    "\n",
    "web='https://www.tdcj.texas.gov/death_row/dr_info/farristroylast.html'\n",
    "req = Request(web, headers={'User-Agent': 'Mozilla/5.0'})\n",
    "downloaded_web = urlopen(req).read()\n",
    "last_soup = BeautifulSoup(downloaded_web,'lxml')\n",
    "statements = last_soup.find_all('p')\n",
    "statement = ''\n",
    "for s in statements:\n",
    "    statement = statement+s.text\n",
    "d.append(statement.split('Last Statement:')[-1].replace('\\xa0','').replace('\\r\\n','').strip('\\n'))\n",
    "print(d)\n",
    "\n"
   ]
  },
  {
   "cell_type": "code",
   "execution_count": 14,
   "metadata": {},
   "outputs": [
    {
     "output_type": "stream",
     "name": "stdout",
     "text": [
      "3\n",
      "3\n",
      "3\n",
      "3\n",
      "3\n",
      "3\n",
      "3\n",
      "3\n",
      "3\n",
      "3\n",
      "3\n",
      "3\n",
      "3\n",
      "3\n",
      "3\n",
      "3\n",
      "3\n",
      "3\n"
     ]
    }
   ],
   "source": [
    "d = []\n",
    "for url in last_statement_url[438:456]:\n",
    "    req = Request(url, headers={'User-Agent': 'Mozilla/5.0'})\n",
    "    downloaded_url = urlopen(req).read()\n",
    "    last_soup = BeautifulSoup(downloaded_url,'lxml')\n",
    "    statements = last_soup.find_all('p')\n",
    "    statement = ''\n",
    "    for s in statements:\n",
    "        statement = statement+s.text\n",
    "        #statement\n",
    "    d.append(statement.split('Last Statement:')[-1].replace('\\xa0','').replace('\\r\\n','').strip('\\n'))\n",
    "    print(count)\n",
    "data={'Last Statement':d}\n",
    "df=pd.DataFrame(data)\n",
    "df.to_excel('last_statement438-455.xlsx')"
   ]
  },
  {
   "cell_type": "code",
   "execution_count": null,
   "metadata": {},
   "outputs": [],
   "source": []
  }
 ]
}